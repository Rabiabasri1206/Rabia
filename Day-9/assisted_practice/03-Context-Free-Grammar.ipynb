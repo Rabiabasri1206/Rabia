{
 "cells": [
  {
   "cell_type": "markdown",
   "metadata": {},
   "source": [
    "# CFG\n",
    "\n",
    "It should've a noun phrase followed by a verb phrase. \n",
    "\n",
    "\n",
    "A verb phrase is a verb followed by a noun.\n",
    "\n",
    "\n",
    "A verb can either be saw or Met.\n",
    "\n",
    "\n",
    "Noun phrase can either be Jeharul or Santhosh.\n",
    "\n",
    "\n",
    "and a noun can either be cat or dog."
   ]
  },
  {
   "cell_type": "code",
   "execution_count": 10,
   "metadata": {},
   "outputs": [],
   "source": [
    "import nltk\n",
    "from nltk.parse.generate import generate, demo_grammar\n",
    "CFG_Grammar = nltk.CFG.fromstring(\"\"\"\n",
    "S -> NP VP\n",
    "VP -> V N\n",
    "V -> \"saw\"|\"met\"\n",
    "NP -> \"Jeharul\"|\"Santhosh\"\n",
    "N -> \"dog\"|\"cat\"\n",
    "\"\"\")"
   ]
  },
  {
   "cell_type": "code",
   "execution_count": 11,
   "metadata": {},
   "outputs": [
    {
     "data": {
      "text/plain": [
       "<Grammar with 8 productions>"
      ]
     },
     "execution_count": 11,
     "metadata": {},
     "output_type": "execute_result"
    }
   ],
   "source": [
    "CFG_Grammar"
   ]
  },
  {
   "cell_type": "code",
   "execution_count": 12,
   "metadata": {},
   "outputs": [
    {
     "data": {
      "text/plain": [
       "S"
      ]
     },
     "execution_count": 12,
     "metadata": {},
     "output_type": "execute_result"
    }
   ],
   "source": [
    "CFG_Grammar.start()"
   ]
  },
  {
   "cell_type": "code",
   "execution_count": 13,
   "metadata": {},
   "outputs": [
    {
     "data": {
      "text/plain": [
       "[S -> NP VP,\n",
       " VP -> V N,\n",
       " V -> 'saw',\n",
       " V -> 'met',\n",
       " NP -> 'Jeharul',\n",
       " NP -> 'Santhosh',\n",
       " N -> 'dog',\n",
       " N -> 'cat']"
      ]
     },
     "execution_count": 13,
     "metadata": {},
     "output_type": "execute_result"
    }
   ],
   "source": [
    "CFG_Grammar.productions()"
   ]
  },
  {
   "cell_type": "code",
   "execution_count": 14,
   "metadata": {},
   "outputs": [
    {
     "name": "stdout",
     "output_type": "stream",
     "text": [
      "Jeharul saw dog\n",
      "Jeharul saw cat\n",
      "Jeharul met dog\n",
      "Jeharul met cat\n",
      "Santhosh saw dog\n",
      "Santhosh saw cat\n",
      "Santhosh met dog\n",
      "Santhosh met cat\n"
     ]
    }
   ],
   "source": [
    "for sentence in generate(CFG_Grammar, n=10):\n",
    "    print(' '.join(sentence))"
   ]
  },
  {
   "cell_type": "code",
   "execution_count": null,
   "metadata": {},
   "outputs": [],
   "source": []
  }
 ],
 "metadata": {
  "kernelspec": {
   "display_name": "Python 3",
   "language": "python",
   "name": "python3"
  },
  "language_info": {
   "codemirror_mode": {
    "name": "ipython",
    "version": 3
   },
   "file_extension": ".py",
   "mimetype": "text/x-python",
   "name": "python",
   "nbconvert_exporter": "python",
   "pygments_lexer": "ipython3",
   "version": "3.7.3"
  }
 },
 "nbformat": 4,
 "nbformat_minor": 2
}
