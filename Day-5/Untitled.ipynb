{
 "cells": [
  {
   "cell_type": "markdown",
   "metadata": {},
   "source": [
    "# Decision Tree Classification in Python\n",
    "\n",
    "## Topics: \n",
    "* Decision Tree Classification\n",
    "* Attribute selection measures\n",
    "* How to build and optimize Decision Tree Classifier using Python Scikit-learn package.\n",
    "\n",
    "    * Decision Tree Algorithm\n",
    "    * How does the Decision Tree algorithm work?\n",
    "    * Attribute Selection Measures\n",
    "    * Information Gain\n",
    "    * Gain Ratio\n",
    "    * Gini index\n",
    "    * Optimizing Decision Tree Performance\n",
    "    * Classifier Building in Scikit-learn\n",
    "    * Pros and Cons\n",
    "\n",
    "\n",
    "\n",
    "# Business Problem\n",
    "\n",
    "* As a marketing manager, you want a set of customers who are most likely to purchase your product. \n",
    "    * This is how you can save your marketing budget by finding your audience. \n",
    "\n",
    "\n",
    "* As a loan manager, you need to identify risky loan applications to achieve a lower loan default rate. \n",
    "    * This process of classifying customers into a group of potential and non-potential customers or safe or risky loan applications is known as a classification problem. \n",
    "\n",
    "\n",
    "* Classification is a two-step process: \n",
    "    * Learning step\n",
    "        * In the learning step, the model is developed based on given training data. \n",
    "        \n",
    "    * Prediction step \n",
    "        * In the prediction step, the model is used to predict the response for given data.\n",
    "\n",
    "\n",
    "### Decision Tree is one of the easiest and popular classification algorithms to understand and interpret. It can be utilized for both classification and regression kind of problem.\n"
   ]
  },
  {
   "cell_type": "markdown",
   "metadata": {},
   "source": [
    "# Decision Tree Algorithm\n",
    "\n",
    "\n",
    "A decision tree is a flowchart-like tree structure where an internal node represents feature(or attribute), the branch represents a decision rule, and each leaf node represents the outcome. \n",
    "\n",
    "\n",
    "The topmost node in a decision tree is known as the root node. \n",
    "\n",
    "\n",
    "It learns to partition on the basis of the attribute value. \n",
    "\n",
    "\n",
    "It partitions the tree in recursively manner call recursive partitioning. \n",
    "\n",
    "\n",
    "This flowchart-like structure helps you in decision making. It's visualization like a flowchart diagram which easily mimics the human level thinking. \n",
    "\n",
    "\n",
    "That is why decision trees are easy to understand and interpret.\n",
    "\n",
    "<img src='img/dt1.JPG'>"
   ]
  },
  {
   "cell_type": "markdown",
   "metadata": {},
   "source": [
    "Decision Tree is a white box type of ML algorithm.\n",
    "\n",
    "\n",
    "It shares internal decision-making logic, which is not available in the black box type of algorithms such as Neural Network.\n",
    "\n",
    "\n",
    "Its training time is faster compared to the neural network algorithm. \n",
    "\n",
    "\n",
    "The time complexity of decision trees is a function of the number of records and number of attributes in the given data. \n",
    "\n",
    "\n",
    "The decision tree is a distribution-free or non-parametric method, which does not depend upon probability distribution assumptions. \n",
    "\n",
    "\n",
    "Decision trees can handle high dimensional data with good accuracy."
   ]
  },
  {
   "cell_type": "code",
   "execution_count": null,
   "metadata": {},
   "outputs": [],
   "source": []
  }
 ],
 "metadata": {
  "kernelspec": {
   "display_name": "Python 3",
   "language": "python",
   "name": "python3"
  },
  "language_info": {
   "codemirror_mode": {
    "name": "ipython",
    "version": 3
   },
   "file_extension": ".py",
   "mimetype": "text/x-python",
   "name": "python",
   "nbconvert_exporter": "python",
   "pygments_lexer": "ipython3",
   "version": "3.7.3"
  }
 },
 "nbformat": 4,
 "nbformat_minor": 2
}
