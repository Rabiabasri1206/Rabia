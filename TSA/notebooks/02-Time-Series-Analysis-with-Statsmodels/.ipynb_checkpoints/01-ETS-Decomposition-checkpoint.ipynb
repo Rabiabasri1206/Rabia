{
 "cells": [
  {
   "cell_type": "markdown",
   "metadata": {},
   "source": [
    "## ETS\n",
    "\n",
    "## Error/Trend/Seasonality Models\n",
    "As we begin working with <em>endogenous</em> data (\"endog\" for short) and start to develop forecasting models, it helps to identify and isolate factors working within the system that influence behavior. Here the name \"endogenous\" considers internal factors, while \"exogenous\" would relate to external forces. These fall under the category of <em>state space models</em>, and include <em>decomposition</em> (described below), and <em>exponential smoothing</em> (described in an upcoming section).\n",
    "\n",
    "The <a href='https://en.wikipedia.org/wiki/Decomposition_of_time_series'>decomposition</a> of a time series attempts to isolate individual components such as <em>error</em>, <em>trend</em>, and <em>seasonality</em> (ETS). We've already seen a simplistic example of this in the <strong>Introduction to Statsmodels</strong> section with the Hodrick-Prescott filter. There we separated data into a trendline and a cyclical feature that mapped observed data back to the trend.\n",
    "\n",
    "<div class=\"alert alert-info\"><h3>Related Function:</h3>\n",
    "<tt><strong><a href='https://www.statsmodels.org/stable/generated/statsmodels.tsa.seasonal.seasonal_decompose.html'>statsmodels.tsa.seasonal.seasonal_decompose</a></strong><font color=black>(x, model)</font>&nbsp;&nbsp;\n",
    "Seasonal decomposition using moving averages</tt>\n",
    "<h3>For Further Reading:</h3>\n",
    "<strong>\n",
    "<a href='https://otexts.com/fpp2/ets.html'>Forecasting: Principles and Practice</a></strong>&nbsp;&nbsp;<font color=black>Innovations state space models for exponential smoothing</font><br>\n",
    "<strong>\n",
    "<a href='https://en.wikipedia.org/wiki/Decomposition_of_time_series'>Wikipedia</a></strong>&nbsp;&nbsp;<font color=black>Decomposition of time series</font></div>\n",
    "\n",
    "## Seasonal Decomposition\n",
    "Statsmodels provides a <em>seasonal decomposition</em> tool we can use to separate out the different components. This lets us see quickly and visually what each component contributes to the overall behavior.\n",
    "\n",
    "\n",
    "We apply an <strong>additive</strong> model when it seems that the trend is more linear and the seasonality and trend components seem to be constant over time (e.g. every year we add 10,000 passengers).<br>\n",
    "A <strong>multiplicative</strong> model is more appropriate when we are increasing (or decreasing) at a non-linear rate (e.g. each year we double the amount of passengers).\n",
    "\n",
    "For these examples we'll use the International Airline Passengers dataset, which gives monthly totals in thousands from January 1949 to December 1960."
   ]
  }
 ],
 "metadata": {
  "anaconda-cloud": {},
  "kernelspec": {
   "display_name": "Python 3",
   "language": "python",
   "name": "python3"
  },
  "language_info": {
   "codemirror_mode": {
    "name": "ipython",
    "version": 3
   },
   "file_extension": ".py",
   "mimetype": "text/x-python",
   "name": "python",
   "nbconvert_exporter": "python",
   "pygments_lexer": "ipython3",
   "version": "3.7.4"
  }
 },
 "nbformat": 4,
 "nbformat_minor": 2
}
